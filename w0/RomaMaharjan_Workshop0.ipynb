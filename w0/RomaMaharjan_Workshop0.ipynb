{
  "cells": [
    {
      "cell_type": "markdown",
      "metadata": {
        "id": "TqcBUz1j2rRB"
      },
      "source": [
        "**4. TO - DO - Task**\n",
        "\n",
        "**4.1 Exercises on Functions**\n",
        "\n",
        " Task 1\n",
        "\n"
      ]
    },
    {
      "cell_type": "code",
      "execution_count": 8,
      "metadata": {
        "colab": {
          "base_uri": "https://localhost:8080/"
        },
        "id": "7ZHsLb7l2fAV",
        "outputId": "d904a30a-cd16-4596-e9bd-2af04f5c5a69"
      },
      "outputs": [
        {
          "output_type": "stream",
          "name": "stdout",
          "text": [
            "Unit Converter\n",
            "1. Length (meters to feet, feet to meters)\n",
            "2. Weight (kilograms to pounds, pounds to kilograms)\n",
            "3. Volume (liters to gallons, gallons to liters)\n",
            "Choose a conversion type (1-3): 2\n",
            "1. Kilograms to Pounds\n",
            "2. Pounds to Kilograms\n",
            "Choose conversion (1-2): 1\n",
            "Enter kilograms: 6\n",
            "6.0 kg = 13.23 lbs\n"
          ]
        }
      ],
      "source": [
        "def meters_to_feet(meters):\n",
        "    \"\"\"\n",
        "    Convert meters to feet.\n",
        "    :param meters: Value in meters (float)\n",
        "    :return: Equivalent value in feet (float)\n",
        "    \"\"\"\n",
        "    return meters * 3.28084\n",
        "\n",
        "def feet_to_meters(feet):\n",
        "    \"\"\"\n",
        "    Convert feet to meters.\n",
        "    :param feet: Value in feet (float)\n",
        "    :return: Equivalent value in meters (float)\n",
        "    \"\"\"\n",
        "    return feet / 3.28084\n",
        "\n",
        "def kilograms_to_pounds(kg):\n",
        "    \"\"\"\n",
        "    Convert kilograms to pounds.\n",
        "    :param kg: Value in kilograms (float)\n",
        "    :return: Equivalent value in pounds (float)\n",
        "    \"\"\"\n",
        "    return kg * 2.20462\n",
        "\n",
        "def pounds_to_kilograms(lbs):\n",
        "    \"\"\"\n",
        "    Convert pounds to kilograms.\n",
        "    :param lbs: Value in pounds (float)\n",
        "    :return: Equivalent value in kilograms (float)\n",
        "    \"\"\"\n",
        "    return lbs / 2.20462\n",
        "\n",
        "def liters_to_gallons(liters):\n",
        "    \"\"\"\n",
        "    Convert liters to gallons.\n",
        "    :param liters: Value in liters (float)\n",
        "    :return: Equivalent value in gallons (float)\n",
        "    \"\"\"\n",
        "    return liters * 0.264172\n",
        "\n",
        "def gallons_to_liters(gallons):\n",
        "    \"\"\"\n",
        "    Convert gallons to liters.\n",
        "    :param gallons: Value in gallons (float)\n",
        "    :return: Equivalent value in liters (float)\n",
        "    \"\"\"\n",
        "    return gallons / 0.264172\n",
        "\n",
        "def main():\n",
        "    print(\"Unit Converter\")\n",
        "    print(\"1. Length (meters to feet, feet to meters)\")\n",
        "    print(\"2. Weight (kilograms to pounds, pounds to kilograms)\")\n",
        "    print(\"3. Volume (liters to gallons, gallons to liters)\")\n",
        "\n",
        "    try:\n",
        "        choice = int(input(\"Choose a conversion type (1-3): \"))\n",
        "        if choice == 1:\n",
        "            print(\"1. Meters to Feet\")\n",
        "            print(\"2. Feet to Meters\")\n",
        "            sub_choice = int(input(\"Choose conversion (1-2): \"))\n",
        "            if sub_choice == 1:\n",
        "                value = float(input(\"Enter meters: \"))\n",
        "                print(f\"{value} meters = {meters_to_feet(value):.2f} feet\")\n",
        "            elif sub_choice == 2:\n",
        "                value = float(input(\"Enter feet: \"))\n",
        "                print(f\"{value} feet = {feet_to_meters(value):.2f} meters\")\n",
        "            else:\n",
        "                print(\"Invalid choice.\")\n",
        "        elif choice == 2:\n",
        "            print(\"1. Kilograms to Pounds\")\n",
        "            print(\"2. Pounds to Kilograms\")\n",
        "            sub_choice = int(input(\"Choose conversion (1-2): \"))\n",
        "            if sub_choice == 1:\n",
        "                value = float(input(\"Enter kilograms: \"))\n",
        "                print(f\"{value} kg = {kilograms_to_pounds(value):.2f} lbs\")\n",
        "            elif sub_choice == 2:\n",
        "                value = float(input(\"Enter pounds: \"))\n",
        "                print(f\"{value} lbs = {pounds_to_kilograms(value):.2f} kg\")\n",
        "            else:\n",
        "                print(\"Invalid choice.\")\n",
        "        elif choice == 3:\n",
        "            print(\"1. Liters to Gallons\")\n",
        "            print(\"2. Gallons to Liters\")\n",
        "            sub_choice = int(input(\"Choose conversion (1-2): \"))\n",
        "            if sub_choice == 1:\n",
        "                value = float(input(\"Enter liters: \"))\n",
        "                print(f\"{value} L = {liters_to_gallons(value):.2f} gal\")\n",
        "            elif sub_choice == 2:\n",
        "                value = float(input(\"Enter gallons: \"))\n",
        "                print(f\"{value} gal = {gallons_to_liters(value):.2f} L\")\n",
        "            else:\n",
        "                print(\"Invalid choice.\")\n",
        "        else:\n",
        "            print(\"Invalid choice. Please select a valid option.\")\n",
        "    except ValueError:\n",
        "        print(\"Invalid input. Please enter a numeric value.\")\n",
        "\n",
        "if __name__ == \"__main__\":\n",
        "    main()"
      ]
    },
    {
      "cell_type": "markdown",
      "metadata": {
        "id": "HPMD5tq63hS1"
      },
      "source": [
        "Task 2"
      ]
    },
    {
      "cell_type": "code",
      "execution_count": 9,
      "metadata": {
        "colab": {
          "base_uri": "https://localhost:8080/"
        },
        "id": "-AcjO--y3ima",
        "outputId": "6a3cbf2f-1747-4871-cd7d-c7831ad27a9c"
      },
      "outputs": [
        {
          "output_type": "stream",
          "name": "stdout",
          "text": [
            "Mathematical Operations on a List\n",
            "1. Sum\n",
            "2. Average\n",
            "3. Maximum\n",
            "4. Minimum\n",
            "Choose an operation (1-4): 2\n",
            "Enter a list of numbers separated by spaces: 1 2 3 4 5 6\n",
            "Average: 3.50\n"
          ]
        }
      ],
      "source": [
        "def calculate_sum(numbers):\n",
        "    \"\"\"\n",
        "    Calculate the sum of a list of numbers.\n",
        "\n",
        "    :param numbers: List of numerical values.\n",
        "    :return: Sum of the numbers.\n",
        "    \"\"\"\n",
        "    return sum(numbers)\n",
        "\n",
        "def calculate_average(numbers):\n",
        "    \"\"\"\n",
        "    Calculate the average of a list of numbers.\n",
        "\n",
        "    :param numbers: List of numerical values.\n",
        "    :return: Average of the numbers.\n",
        "    \"\"\"\n",
        "    return sum(numbers) / len(numbers) if numbers else 0\n",
        "\n",
        "def find_maximum(numbers):\n",
        "    \"\"\"\n",
        "    Find the maximum value in a list of numbers.\n",
        "\n",
        "    :param numbers: List of numerical values.\n",
        "    :return: Maximum value in the list.\n",
        "    \"\"\"\n",
        "    return max(numbers)\n",
        "\n",
        "def find_minimum(numbers):\n",
        "    \"\"\"\n",
        "    Find the minimum value in a list of numbers.\n",
        "\n",
        "    :param numbers: List of numerical values.\n",
        "    :return: Minimum value in the list.\n",
        "    \"\"\"\n",
        "    return min(numbers)\n",
        "\n",
        "def main():\n",
        "    print(\"Mathematical Operations on a List\")\n",
        "    print(\"1. Sum\")\n",
        "    print(\"2. Average\")\n",
        "    print(\"3. Maximum\")\n",
        "    print(\"4. Minimum\")\n",
        "\n",
        "    try:\n",
        "        choice = int(input(\"Choose an operation (1-4): \"))\n",
        "        numbers = input(\"Enter a list of numbers separated by spaces: \").split()\n",
        "\n",
        "        # Convert input to a list of floats\n",
        "        numbers = [float(num) for num in numbers]\n",
        "\n",
        "        if not numbers:\n",
        "            raise ValueError(\"The list is empty. Please enter some numbers.\")\n",
        "\n",
        "        if choice == 1:\n",
        "            print(f\"Sum: {calculate_sum(numbers)}\")\n",
        "        elif choice == 2:\n",
        "            print(f\"Average: {calculate_average(numbers):.2f}\")\n",
        "        elif choice == 3:\n",
        "            print(f\"Maximum: {find_maximum(numbers)}\")\n",
        "        elif choice == 4:\n",
        "            print(f\"Minimum: {find_minimum(numbers)}\")\n",
        "        else:\n",
        "            print(\"Invalid choice. Please select a valid option.\")\n",
        "\n",
        "    except ValueError as e:\n",
        "        print(f\"Error: {e}. Please enter valid numerical values.\")\n",
        "\n",
        "if __name__ == \"__main__\":\n",
        "    main()"
      ]
    },
    {
      "cell_type": "markdown",
      "metadata": {
        "id": "RsJN6I1F4L24"
      },
      "source": [
        "**4.2 Exercise on List Manipulation**\n",
        "\n",
        "1. Extract Every Other Element"
      ]
    },
    {
      "cell_type": "code",
      "execution_count": 10,
      "metadata": {
        "colab": {
          "base_uri": "https://localhost:8080/"
        },
        "id": "nyn-QJLC4hid",
        "outputId": "eb2b00c6-51df-4517-b7d3-ec30d00da0e0"
      },
      "outputs": [
        {
          "output_type": "stream",
          "name": "stdout",
          "text": [
            "[1, 3, 5]\n"
          ]
        }
      ],
      "source": [
        "def extract_every_other(lst):\n",
        "    \"\"\"\n",
        "    Extract every other element from a list, starting from the first element.\n",
        "\n",
        "    :param lst: List of elements.\n",
        "    :return: A new list containing every other element.\n",
        "    \"\"\"\n",
        "    return lst[::2]  # Using list slicing to get every second element\n",
        "\n",
        "num_list = [1, 2, 3, 4, 5,6 ]\n",
        "result = extract_every_other(num_list)\n",
        "print(result)"
      ]
    },
    {
      "cell_type": "markdown",
      "metadata": {
        "id": "kjwbsM3Ze1hK"
      },
      "source": [
        "2. Slice a Sublist"
      ]
    },
    {
      "cell_type": "code",
      "execution_count": 11,
      "metadata": {
        "colab": {
          "base_uri": "https://localhost:8080/"
        },
        "id": "vEq_-smYepmR",
        "outputId": "0df40eea-7fab-45af-c76c-1f85c9a01608"
      },
      "outputs": [
        {
          "output_type": "stream",
          "name": "stdout",
          "text": [
            "Output:  [3, 4, 5]\n"
          ]
        }
      ],
      "source": [
        "def get_sublist(lst, start, end):\n",
        "  \"\"\"\n",
        "  Returns a sublist from the given list, starting from 'start' index and ending at 'end' index (inclusive).\n",
        "\n",
        "  :param lst: List from which sublist is to be extracted\n",
        "  :param start: Starting index of the sublist\n",
        "  :param end: Ending index of the sublist (inclusive)\n",
        "  :return: Sublist from start to end index (inclusive)\n",
        "  \"\"\"\n",
        "  return lst[start:end+1]\n",
        "\n",
        "start = 2\n",
        "end = 4\n",
        "lst = [1,2,3,4,5,6]\n",
        "print(\"Output: \",get_sublist(lst, start, end))"
      ]
    },
    {
      "cell_type": "markdown",
      "metadata": {
        "id": "0jhHgwUJgth2"
      },
      "source": [
        "3. Reverse a List Using Slicing"
      ]
    },
    {
      "cell_type": "code",
      "execution_count": 12,
      "metadata": {
        "colab": {
          "base_uri": "https://localhost:8080/"
        },
        "id": "MX769ncOfAmh",
        "outputId": "35ec6149-e640-4d33-fbfb-8f84a8f1022b"
      },
      "outputs": [
        {
          "output_type": "stream",
          "name": "stdout",
          "text": [
            "Reverse list:  [9, 8, 7, 6, 5, 4, 3, 2, 1]\n"
          ]
        }
      ],
      "source": [
        "def reverse_list(lst):\n",
        "  \"\"\"\n",
        "  Returns a reversed list using slicing.\n",
        "\n",
        "  :param lst: List to be reversed\n",
        "  :return: Reversed list\n",
        "  \"\"\"\n",
        "\n",
        "  return lst[::-1]\n",
        "\n",
        "lst = [1,2,3,4,5,6,7,8,9]\n",
        "print(\"Reverse list: \",reverse_list(lst))"
      ]
    },
    {
      "cell_type": "markdown",
      "metadata": {
        "id": "Q6Do2IkXld2f"
      },
      "source": [
        "4. Remove the First and Last Elements"
      ]
    },
    {
      "cell_type": "code",
      "execution_count": 13,
      "metadata": {
        "colab": {
          "base_uri": "https://localhost:8080/"
        },
        "id": "5aBLvjvDlUee",
        "outputId": "6887f352-d322-4761-91f4-649d0c60f062"
      },
      "outputs": [
        {
          "output_type": "stream",
          "name": "stdout",
          "text": [
            "Sublist:  [2, 5, 2, 3, 6]\n"
          ]
        }
      ],
      "source": [
        "def remove_first_last(lst):\n",
        "  \"\"\"\n",
        "  Removes the first and last elements of a list and returns the resulting sublist.\n",
        "\n",
        "  :param lst: List from which first and last elements should be removed\n",
        "  :return: Sublist without the first and last elements\n",
        "  \"\"\"\n",
        "  return lst[1:-1]\n",
        "\n",
        "list = [1,2,5,2,3,6,1]\n",
        "print(\"Sublist: \",remove_first_last(list))"
      ]
    },
    {
      "cell_type": "markdown",
      "metadata": {
        "id": "fVSmb81TmYW3"
      },
      "source": [
        "5. Get the First n Elements"
      ]
    },
    {
      "cell_type": "code",
      "execution_count": 14,
      "metadata": {
        "colab": {
          "base_uri": "https://localhost:8080/"
        },
        "id": "YDCFZY9RmX84",
        "outputId": "2b35495d-2533-45b1-bd44-ceab3098bc37"
      },
      "outputs": [
        {
          "output_type": "stream",
          "name": "stdout",
          "text": [
            "First nth elements:  [3, 2, 5, 8]\n"
          ]
        }
      ],
      "source": [
        "def get_first_n(lst, n):\n",
        "  \"\"\"\n",
        "  Returns the first n elements from a given list using slicing.\n",
        "\n",
        "  :param lst: List from which elements are to be extracted\n",
        "  :param n: Number of elements to extract from the beginning\n",
        "  :return: List containing the first n elements\n",
        "  \"\"\"\n",
        "  return lst[:n]\n",
        "\n",
        "num = 4\n",
        "list = [3,2,5,8,9,1,2]\n",
        "print(\"First nth elements: \", get_first_n(list,num))\n"
      ]
    },
    {
      "cell_type": "markdown",
      "metadata": {
        "id": "Mnf2ni0yoXVP"
      },
      "source": [
        "6. Extract Elements from the End"
      ]
    },
    {
      "cell_type": "code",
      "execution_count": 15,
      "metadata": {
        "colab": {
          "base_uri": "https://localhost:8080/"
        },
        "id": "oJTA_4rOoND8",
        "outputId": "4d7d3459-669a-4b21-f818-e2e9bd52b1e1"
      },
      "outputs": [
        {
          "output_type": "stream",
          "name": "stdout",
          "text": [
            "First nth elements:  [1, 2]\n"
          ]
        }
      ],
      "source": [
        "def get_last_n(lst, n):\n",
        "  \"\"\"\n",
        "  Returns the last n elements from a given list using slicing.\n",
        "\n",
        "  :param lst: List from which elements are to be extracted\n",
        "  :param n: Number of elements to extract from the end\n",
        "  :return: List containing the last n elements\n",
        "  \"\"\"\n",
        "  return lst[-n:] if n > 0 else []\n",
        "\n",
        "num = 2\n",
        "list = [3,2,5,8,9,1,2]\n",
        "print(\"First nth elements: \", get_last_n(list,num))"
      ]
    },
    {
      "cell_type": "markdown",
      "metadata": {
        "id": "jDwN3_6Tpvna"
      },
      "source": [
        "7. Extract Elements in Reverse Order"
      ]
    },
    {
      "cell_type": "code",
      "execution_count": 16,
      "metadata": {
        "colab": {
          "base_uri": "https://localhost:8080/"
        },
        "id": "s2Yf1QUfpvV6",
        "outputId": "7fe877c0-d807-4f07-fbda-b73c95a3f787"
      },
      "outputs": [
        {
          "output_type": "stream",
          "name": "stdout",
          "text": [
            "New list:  [7, 3, 2]\n"
          ]
        }
      ],
      "source": [
        "def reverse_skip(lst):\n",
        "  \"\"\"\n",
        "  Returns a list of elements in reverse order, starting from the second-to-last element\n",
        "  and skipping one element in between.\n",
        "\n",
        "  :param lst: List from which elements are to be extracted\n",
        "  :return: New list containing every second element in reverse order\n",
        "  \"\"\"\n",
        "\n",
        "  return lst[-2::-2]\n",
        "\n",
        "list = [2,1,3,6,7,9]\n",
        "\n",
        "print(\"New list: \",reverse_skip(list))"
      ]
    },
    {
      "cell_type": "markdown",
      "metadata": {
        "id": "0nLFzm0erPP4"
      },
      "source": [
        "**4.3 Exercise on Nested List**\n",
        "1. Flatten a Nested List"
      ]
    },
    {
      "cell_type": "code",
      "execution_count": 17,
      "metadata": {
        "colab": {
          "base_uri": "https://localhost:8080/"
        },
        "id": "EyDCQJmnrG9Y",
        "outputId": "040b9a43-2c1f-420c-ce4f-3bef5b532d27"
      },
      "outputs": [
        {
          "output_type": "stream",
          "name": "stdout",
          "text": [
            "Flatten list:  [1, 2, 3, 6, 7, 8, 3, 2, 1]\n"
          ]
        }
      ],
      "source": [
        "def flatten(lst):\n",
        "  flat_list = []\n",
        "  for row in lst:\n",
        "    flat_list.extend(row)\n",
        "  return flat_list\n",
        "\n",
        "\n",
        "list = [[1,2,3],[6,7,8],[3,2,1]]\n",
        "print(\"Flatten list: \",flatten(list))"
      ]
    },
    {
      "cell_type": "markdown",
      "metadata": {
        "id": "NRv6iLuxsqFj"
      },
      "source": [
        "2. Accessing Nested List Elements"
      ]
    },
    {
      "cell_type": "code",
      "execution_count": 18,
      "metadata": {
        "colab": {
          "base_uri": "https://localhost:8080/"
        },
        "id": "GyT0lPhnsp0Y",
        "outputId": "b08d30f2-a791-48ff-a0d8-ddd8ada75b2a"
      },
      "outputs": [
        {
          "output_type": "stream",
          "name": "stdout",
          "text": [
            "Nested List Elements:  6\n"
          ]
        }
      ],
      "source": [
        "def access_nested_element(lst, indices):\n",
        "    element = lst\n",
        "    for index in indices:\n",
        "        element = element[index]\n",
        "    return element\n",
        "\n",
        "\n",
        "nested_list = [[1, 2, 3], [4, 5, 6], [7, 8, 9]]\n",
        "indices = [1, 2]\n",
        "print(\"Nested List Elements: \",access_nested_element(nested_list, indices))"
      ]
    },
    {
      "cell_type": "markdown",
      "metadata": {
        "id": "4uuFBvFItYnx"
      },
      "source": [
        "3. Sum of All Elements in a Nested List"
      ]
    },
    {
      "cell_type": "code",
      "execution_count": 19,
      "metadata": {
        "colab": {
          "base_uri": "https://localhost:8080/"
        },
        "id": "HMvh0yvstYD1",
        "outputId": "2ac2e3bc-7387-4494-a368-8e03a1130391"
      },
      "outputs": [
        {
          "output_type": "stream",
          "name": "stdout",
          "text": [
            "Sum of Elements:  15\n"
          ]
        }
      ],
      "source": [
        "def sum_nested(lst):\n",
        "    # List comprehension answer ->\n",
        "    # return [item for sublist in lst for item in sublist]\n",
        "    res = []\n",
        "    for i in lst:\n",
        "        for j in i:\n",
        "            res.append(j)\n",
        "\n",
        "    return sum(res)\n",
        "\n",
        "res = sum_nested([[1, 2], [3, 4], [5]])\n",
        "print(\"Sum of Elements: \",res)"
      ]
    },
    {
      "cell_type": "markdown",
      "metadata": {
        "id": "eEWh2-revGp5"
      },
      "source": [
        "4. Remove Specific Element from a Nested List"
      ]
    },
    {
      "cell_type": "code",
      "execution_count": 20,
      "metadata": {
        "colab": {
          "base_uri": "https://localhost:8080/"
        },
        "id": "yRryzlmxgaP2",
        "outputId": "2603f886-18b2-4a7a-c6bc-1f2d7349bb00"
      },
      "outputs": [
        {
          "output_type": "stream",
          "name": "stdout",
          "text": [
            "New list:  [[1], [3, 4], [5]]\n"
          ]
        }
      ],
      "source": [
        "def remove_element(lst, elem):\n",
        "    for i in lst:\n",
        "        if elem in i:\n",
        "            i.remove(elem)\n",
        "\n",
        "    return lst\n",
        "\n",
        "res = remove_element([[1, 2], [3, 4], [2,5]], 2)\n",
        "print(\"New list: \",res)"
      ]
    },
    {
      "cell_type": "markdown",
      "metadata": {
        "id": "iF1l0dFSgN9y"
      },
      "source": [
        "5. Find the Maximum Element in a Nested List"
      ]
    },
    {
      "cell_type": "code",
      "execution_count": 21,
      "metadata": {
        "colab": {
          "base_uri": "https://localhost:8080/"
        },
        "id": "YBwc02hvtfvk",
        "outputId": "aba32bab-f08d-4985-fa5c-48226a55e0cf"
      },
      "outputs": [
        {
          "output_type": "stream",
          "name": "stdout",
          "text": [
            "Maximum Element in a Nested List:  6\n"
          ]
        }
      ],
      "source": [
        "def flatten_list(lst):\n",
        "    # convert it to string, strip unnecessary characters\n",
        "    tmp = str(lst)\n",
        "    tmp = tmp.strip(\"[]\")\n",
        "    tmp = tmp.replace(\"[\", \"\").replace(\"]\", \"\").replace(\" \", \"\")\n",
        "    t_arr = tmp.split(\",\")\n",
        "\n",
        "    return [int(i) for i in t_arr]\n",
        "\n",
        "\n",
        "def find_max(lst):\n",
        "    return max(flatten_list(lst))\n",
        "\n",
        "print(\"Maximum Element in a Nested List: \",find_max([[1, 2], [3, [4, 5]], 6]))"
      ]
    },
    {
      "cell_type": "markdown",
      "metadata": {
        "id": "H2Stb8OKgSR_"
      },
      "source": [
        "6. Count Occurrences of an Element in a Nested List"
      ]
    },
    {
      "cell_type": "code",
      "execution_count": 22,
      "metadata": {
        "colab": {
          "base_uri": "https://localhost:8080/"
        },
        "id": "vxfRHgLavHY8",
        "outputId": "615e0124-9fa1-4656-aa43-d55524a6b48c"
      },
      "outputs": [
        {
          "output_type": "stream",
          "name": "stdout",
          "text": [
            "Occurrences Count:  3\n"
          ]
        }
      ],
      "source": [
        "def count_occurrences(lst, elem):\n",
        "    \"\"\"\n",
        "    Counts the occurrences of an element in a nested list.\n",
        "\n",
        "    Args:\n",
        "        lst: The nested list to search.\n",
        "        elem: The element to count.\n",
        "\n",
        "    Returns:\n",
        "        The number of times the element appears in the list.\n",
        "    \"\"\"\n",
        "    count = 0\n",
        "    for sublist in lst:\n",
        "        for item in sublist:\n",
        "            if item == elem:\n",
        "                count += 1\n",
        "    return count\n",
        "lst = [[1, 2], [2, 3], [2, 4]]\n",
        "elem = 2\n",
        "print(\"Occurrences Count: \",count_occurrences(lst, elem))"
      ]
    },
    {
      "cell_type": "markdown",
      "metadata": {
        "id": "sjwKZEb8gXW4"
      },
      "source": [
        "7. Flatten a List of Lists of Lists"
      ]
    },
    {
      "cell_type": "code",
      "execution_count": 23,
      "metadata": {
        "colab": {
          "base_uri": "https://localhost:8080/"
        },
        "id": "asErn7hYaF5u",
        "outputId": "99c15a77-6514-4283-abea-e0c937aa307f"
      },
      "outputs": [
        {
          "output_type": "stream",
          "name": "stdout",
          "text": [
            "List:  [1, 2, 3, 4, 5, 6]\n"
          ]
        }
      ],
      "source": [
        "def deep_flatten(lst):\n",
        "    # convert it to string, strip unnecessary characters\n",
        "    tmp = str(lst)\n",
        "    tmp = tmp.strip(\"[]\")\n",
        "    tmp = tmp.replace(\"[\", \"\").replace(\"]\", \"\").replace(\" \", \"\")\n",
        "    t_arr = tmp.split(\",\")\n",
        "\n",
        "    return [int(i) for i in t_arr]\n",
        "\n",
        "print(\"List: \",deep_flatten([[1, 2], [3, [4, 5]], 6]))"
      ]
    },
    {
      "cell_type": "markdown",
      "metadata": {
        "id": "KsdxtfLJgcTp"
      },
      "source": [
        "8. Nested List Average"
      ]
    },
    {
      "cell_type": "code",
      "execution_count": 24,
      "metadata": {
        "colab": {
          "base_uri": "https://localhost:8080/"
        },
        "id": "DWwZjRhVaFqH",
        "outputId": "f8804497-a777-406b-d60d-51b0265fa999"
      },
      "outputs": [
        {
          "output_type": "stream",
          "name": "stdout",
          "text": [
            "The average:  3.5\n"
          ]
        }
      ],
      "source": [
        "def average_nested(lst):\n",
        "    \"\"\"\n",
        "    Calculate the average of all elements in a nested list.\n",
        "\n",
        "    Args:\n",
        "        lst: A nested list of numbers.\n",
        "\n",
        "    Returns:\n",
        "        The average of all elements in the nested list.\n",
        "        Returns 0 if the list is empty or contains no numbers.\n",
        "    \"\"\"\n",
        "    total = 0\n",
        "    count = 0\n",
        "    for sublist in lst:\n",
        "        for num in sublist:\n",
        "            try:\n",
        "                total += num\n",
        "                count += 1\n",
        "            except TypeError:\n",
        "                # Handle cases where a sublist element isn't a number\n",
        "                print(f\"Warning: Non-numeric element '{num}' encountered. Skipping.\")\n",
        "                continue\n",
        "    return total / count if count > 0 else 0\n",
        "\n",
        "list = [[1, 2], [3, 4], [5, 6]]\n",
        "print(\"The average: \",average_nested(list))"
      ]
    },
    {
      "cell_type": "markdown",
      "metadata": {
        "id": "4dggy1rowdEg"
      },
      "source": [
        "**10. To - Do - NumPy**\n",
        "\n",
        "**10.1 Basic Vector and Matrix Operation with Numpy.**\n",
        "\n",
        "Problem - 1: Array Creation:"
      ]
    },
    {
      "cell_type": "code",
      "execution_count": 25,
      "metadata": {
        "colab": {
          "base_uri": "https://localhost:8080/"
        },
        "id": "2He7NRidwPL8",
        "outputId": "5aecdba9-b8a6-4899-e253-00fe293c7dc3"
      },
      "outputs": [
        {
          "output_type": "stream",
          "name": "stdout",
          "text": [
            "Empty Array (2x2):\n",
            " [[7.81364819e-320 0.00000000e+000]\n",
            " [3.99909290e+252 5.74201836e+250]]\n",
            "\n",
            "All Ones Array (4x2):\n",
            " [[1. 1.]\n",
            " [1. 1.]\n",
            " [1. 1.]\n",
            " [1. 1.]]\n",
            "\n",
            "Array Filled with 7 (3x3):\n",
            " [[7 7 7]\n",
            " [7 7 7]\n",
            " [7 7 7]]\n",
            "\n",
            "Zeros Array with Same Shape as Sample Array:\n",
            " [[0 0 0]\n",
            " [0 0 0]]\n",
            "\n",
            "Ones Array with Same Shape as Sample Array:\n",
            " [[1 1 1]\n",
            " [1 1 1]]\n",
            "\n",
            "Converted NumPy Array:\n",
            " [1 2 3 4]\n"
          ]
        }
      ],
      "source": [
        "import numpy as np\n",
        "\n",
        "# 1. Initialize an empty array with size 2x2\n",
        "empty_array = np.empty((2, 2))\n",
        "print(\"Empty Array (2x2):\\n\", empty_array)\n",
        "\n",
        "# 2. Initialize an all ones array with size 4x2\n",
        "ones_array = np.ones((4, 2))\n",
        "print(\"\\nAll Ones Array (4x2):\\n\", ones_array)\n",
        "\n",
        "# 3. Return a new array of given shape and type, filled with a fill value\n",
        "fill_value_array = np.full((3, 3), 7)  # Example: 3x3 array filled with 7\n",
        "print(\"\\nArray Filled with 7 (3x3):\\n\", fill_value_array)\n",
        "\n",
        "# 4. Return a new array of zeros with same shape and type as a given array\n",
        "sample_array = np.array([[5, 10, 15], [20, 25, 30]])\n",
        "zeros_like_array = np.zeros_like(sample_array)\n",
        "print(\"\\nZeros Array with Same Shape as Sample Array:\\n\", zeros_like_array)\n",
        "\n",
        "# 5. Return a new array of ones with same shape and type as a given array\n",
        "ones_like_array = np.ones_like(sample_array)\n",
        "print(\"\\nOnes Array with Same Shape as Sample Array:\\n\", ones_like_array)\n",
        "\n",
        "# 6. Convert an existing list to a NumPy array\n",
        "new_list = [1, 2, 3, 4]\n",
        "numpy_array = np.array(new_list)\n",
        "print(\"\\nConverted NumPy Array:\\n\", numpy_array)"
      ]
    },
    {
      "cell_type": "markdown",
      "metadata": {
        "id": "VD1MYjcAxQUs"
      },
      "source": [
        "Problem - 2: Array Manipulation: Numerical Ranges and Array indexing"
      ]
    },
    {
      "cell_type": "code",
      "execution_count": 26,
      "metadata": {
        "colab": {
          "base_uri": "https://localhost:8080/"
        },
        "id": "j2g1ApgOxQDQ",
        "outputId": "6d60e7c7-2371-4f7a-cd0a-8d116a0a7843"
      },
      "outputs": [
        {
          "output_type": "stream",
          "name": "stdout",
          "text": [
            "Array with values from 10 to 49:\n",
            " [10 11 12 13 14 15 16 17 18 19 20 21 22 23 24 25 26 27 28 29 30 31 32 33\n",
            " 34 35 36 37 38 39 40 41 42 43 44 45 46 47 48 49]\n",
            "\n",
            "3x3 Matrix with values from 0 to 8:\n",
            " [[0 1 2]\n",
            " [3 4 5]\n",
            " [6 7 8]]\n",
            "\n",
            "3x3 Identity Matrix:\n",
            " [[1. 0. 0.]\n",
            " [0. 1. 0.]\n",
            " [0. 0. 1.]]\n",
            "\n",
            "Random Array (size 30):\n",
            " [0.1783525  0.78690919 0.03437921 0.79676121 0.01131484 0.93675389\n",
            " 0.13732656 0.08016227 0.97614097 0.9182121  0.89844404 0.17567475\n",
            " 0.46785843 0.1970655  0.75016407 0.490941   0.54077766 0.4481365\n",
            " 0.30955722 0.46873324 0.71770266 0.54841897 0.26382263 0.92574993\n",
            " 0.33171723 0.64465873 0.88068148 0.8871809  0.10660066 0.80624638]\n",
            "Mean of the Random Array: 0.523881490647493\n",
            "\n",
            "10x10 Random Matrix:\n",
            " [[0.98274535 0.37752939 0.86749013 0.45145011 0.9399103  0.17577208\n",
            "  0.59979189 0.07332374 0.27303084 0.22716489]\n",
            " [0.943251   0.5538412  0.41506222 0.37640032 0.78967256 0.94901612\n",
            "  0.67663344 0.88605378 0.71210297 0.93398683]\n",
            " [0.106626   0.29594735 0.50527505 0.5316523  0.67752901 0.47642487\n",
            "  0.84716936 0.39616532 0.25159999 0.05334975]\n",
            " [0.46120594 0.91610436 0.47497742 0.94050078 0.5617519  0.34069291\n",
            "  0.80633887 0.22152528 0.45032739 0.37392063]\n",
            " [0.57538281 0.93360783 0.28498397 0.51675924 0.33670833 0.69391366\n",
            "  0.62869236 0.99385196 0.52532131 0.31377761]\n",
            " [0.59818891 0.87753546 0.50011059 0.19578712 0.32880709 0.79436947\n",
            "  0.07333237 0.68436617 0.25000906 0.99837731]\n",
            " [0.01851707 0.27871114 0.85416453 0.74462719 0.13284605 0.81524161\n",
            "  0.56147302 0.70660315 0.48966478 0.24437322]\n",
            " [0.69814524 0.2193446  0.25295403 0.05669832 0.28489881 0.12197025\n",
            "  0.90459635 0.4769778  0.46287811 0.34683219]\n",
            " [0.46879858 0.3094071  0.31512076 0.58505711 0.8746369  0.07534135\n",
            "  0.00418886 0.57994118 0.42271164 0.19861611]\n",
            " [0.80956569 0.13782723 0.31931383 0.87321734 0.77348398 0.08239074\n",
            "  0.21236386 0.16220643 0.77113364 0.76186677]]\n",
            "Minimum Value: 0.004188855036016403\n",
            "Maximum Value: 0.9983773099912195\n",
            "\n",
            "Zero Array with 5th Element as 1:\n",
            " [0. 0. 0. 0. 1. 0. 0. 0. 0. 0.]\n",
            "\n",
            "Reversed Array:\n",
            " [0 4 0 0 2 1]\n",
            "\n",
            "2D Array with 1 on Border and 0 Inside:\n",
            " [[1. 1. 1. 1. 1.]\n",
            " [1. 0. 0. 0. 1.]\n",
            " [1. 0. 0. 0. 1.]\n",
            " [1. 0. 0. 0. 1.]\n",
            " [1. 1. 1. 1. 1.]]\n",
            "\n",
            "8x8 Checkerboard Pattern:\n",
            " [[0 1 0 1 0 1 0 1]\n",
            " [1 0 1 0 1 0 1 0]\n",
            " [0 1 0 1 0 1 0 1]\n",
            " [1 0 1 0 1 0 1 0]\n",
            " [0 1 0 1 0 1 0 1]\n",
            " [1 0 1 0 1 0 1 0]\n",
            " [0 1 0 1 0 1 0 1]\n",
            " [1 0 1 0 1 0 1 0]]\n"
          ]
        }
      ],
      "source": [
        "import numpy as np\n",
        "\n",
        "# 1. Create an array with values ranging from 10 to 49\n",
        "arr1 = np.arange(10, 50)\n",
        "print(\"Array with values from 10 to 49:\\n\", arr1)\n",
        "\n",
        "# 2. Create a 3x3 matrix with values ranging from 0 to 8\n",
        "arr2 = np.arange(9).reshape(3, 3)\n",
        "print(\"\\n3x3 Matrix with values from 0 to 8:\\n\", arr2)\n",
        "\n",
        "# 3. Create a 3x3 identity matrix\n",
        "identity_matrix = np.eye(3)\n",
        "print(\"\\n3x3 Identity Matrix:\\n\", identity_matrix)\n",
        "\n",
        "# 4. Create a random array of size 30 and find the mean\n",
        "random_arr = np.random.random(30)\n",
        "mean_value = random_arr.mean()\n",
        "print(\"\\nRandom Array (size 30):\\n\", random_arr)\n",
        "print(\"Mean of the Random Array:\", mean_value)\n",
        "\n",
        "# 5. Create a 10x10 array with random values and find min/max\n",
        "random_matrix = np.random.random((10, 10))\n",
        "min_value = random_matrix.min()\n",
        "max_value = random_matrix.max()\n",
        "print(\"\\n10x10 Random Matrix:\\n\", random_matrix)\n",
        "print(\"Minimum Value:\", min_value)\n",
        "print(\"Maximum Value:\", max_value)\n",
        "\n",
        "# 6. Create a zero array of size 10 and replace 5th element with 1\n",
        "zero_array = np.zeros(10)\n",
        "zero_array[4] = 1\n",
        "print(\"\\nZero Array with 5th Element as 1:\\n\", zero_array)\n",
        "\n",
        "# 7. Reverse an array\n",
        "arr = np.array([1, 2, 0, 0, 4, 0])\n",
        "reversed_arr = arr[::-1]\n",
        "print(\"\\nReversed Array:\\n\", reversed_arr)\n",
        "\n",
        "# 8. Create a 2D array with 1 on the border and 0 inside\n",
        "border_array = np.ones((5, 5))\n",
        "border_array[1:-1, 1:-1] = 0\n",
        "print(\"\\n2D Array with 1 on Border and 0 Inside:\\n\", border_array)\n",
        "\n",
        "# 9. Create an 8x8 matrix with a checkerboard pattern\n",
        "checkerboard = np.zeros((8, 8), dtype=int)\n",
        "checkerboard[1::2, ::2] = 1\n",
        "checkerboard[::2, 1::2] = 1\n",
        "print(\"\\n8x8 Checkerboard Pattern:\\n\", checkerboard)\n"
      ]
    },
    {
      "cell_type": "markdown",
      "metadata": {
        "id": "LbN5Now8xvVm"
      },
      "source": [
        "Problem - 3: Array Operations"
      ]
    },
    {
      "cell_type": "code",
      "execution_count": 27,
      "metadata": {
        "colab": {
          "base_uri": "https://localhost:8080/"
        },
        "id": "iLFy3LKZxtdy",
        "outputId": "df361cea-b967-4efe-941c-a28686ef89db"
      },
      "outputs": [
        {
          "output_type": "stream",
          "name": "stdout",
          "text": [
            "1. Addition of x and y:\n",
            " [[ 6  8]\n",
            " [10 13]]\n",
            "\n",
            "2. Subtraction of x and y:\n",
            " [[-4 -4]\n",
            " [-4 -3]]\n",
            "\n",
            "3. Multiply x by 2:\n",
            " [[ 2  4]\n",
            " [ 6 10]]\n",
            "\n",
            "4. Square of each element of x:\n",
            " [[ 1  4]\n",
            " [ 9 25]]\n",
            "\n",
            "5. Dot product between v and w: 219\n",
            "\n",
            "Dot product between x and v:\n",
            " [29 77]\n",
            "\n",
            "Dot product between x and y:\n",
            " [[19 22]\n",
            " [50 58]]\n",
            "\n",
            "6. Concatenate x and y along row:\n",
            " [[1 2]\n",
            " [3 5]\n",
            " [5 6]\n",
            " [7 8]]\n",
            "\n",
            "Concatenate v and w along column:\n",
            " [[ 9 11]\n",
            " [10 12]]\n",
            "\n",
            "Error: all the input arrays must have same number of dimensions, but the array at index 0 has 2 dimension(s) and the array at index 1 has 1 dimension(s)\n"
          ]
        }
      ],
      "source": [
        "import numpy as np\n",
        "\n",
        "# Given arrays\n",
        "x = np.array([[1, 2], [3, 5]])\n",
        "y = np.array([[5, 6], [7, 8]])\n",
        "v = np.array([9, 10])\n",
        "w = np.array([11, 12])\n",
        "\n",
        "# 1. Add the two arrays (x + y)\n",
        "add_result = x + y\n",
        "print(\"1. Addition of x and y:\\n\", add_result)\n",
        "\n",
        "# 2. Subtract the two arrays (x - y)\n",
        "subtract_result = x - y\n",
        "print(\"\\n2. Subtraction of x and y:\\n\", subtract_result)\n",
        "\n",
        "# 3. Multiply the array with any integer of your choice (e.g., multiply x by 2)\n",
        "multiply_result = x * 2\n",
        "print(\"\\n3. Multiply x by 2:\\n\", multiply_result)\n",
        "\n",
        "# 4. Find the square of each element of the array (x ** 2)\n",
        "square_result = x ** 2\n",
        "print(\"\\n4. Square of each element of x:\\n\", square_result)\n",
        "\n",
        "# 5. Find the dot product between:\n",
        "# v and w\n",
        "dot_vw = np.dot(v, w)\n",
        "print(\"\\n5. Dot product between v and w:\", dot_vw)\n",
        "\n",
        "# x and v\n",
        "dot_xv = np.dot(x, v)\n",
        "print(\"\\nDot product between x and v:\\n\", dot_xv)\n",
        "\n",
        "# x and y\n",
        "dot_xy = np.dot(x, y)\n",
        "print(\"\\nDot product between x and y:\\n\", dot_xy)\n",
        "\n",
        "# 6. Concatenate x and y along row and v and w along column\n",
        "\n",
        "# Concatenate x and y along rows (axis=0)\n",
        "concat_xy_row = np.concatenate((x, y), axis=0)\n",
        "print(\"\\n6. Concatenate x and y along row:\\n\", concat_xy_row)\n",
        "\n",
        "# Concatenate v and w along columns (axis=1)\n",
        "v_w_column = np.concatenate((v.reshape(-1, 1), w.reshape(-1, 1)), axis=1)\n",
        "print(\"\\nConcatenate v and w along column:\\n\", v_w_column)\n",
        "\n",
        "# 7. Concatenate x and v; if you get an error, observe and explain why\n",
        "\n",
        "try:\n",
        "    concat_xv = np.concatenate((x, v), axis=1)\n",
        "    print(\"\\n7. Concatenate x and v along columns:\\n\", concat_xv)\n",
        "except ValueError as e:\n",
        "    print(\"\\nError:\", e)"
      ]
    },
    {
      "cell_type": "markdown",
      "metadata": {
        "id": "uBl4fIMXyHBN"
      },
      "source": [
        "Problem - 4: Matrix Operations"
      ]
    },
    {
      "cell_type": "code",
      "execution_count": 28,
      "metadata": {
        "colab": {
          "base_uri": "https://localhost:8080/"
        },
        "id": "emn29yFXyGvg",
        "outputId": "f55c106f-df78-4d46-f89f-4ee5a2fad93a"
      },
      "outputs": [
        {
          "output_type": "stream",
          "name": "stdout",
          "text": [
            "1. A * A^(-1) = Identity Matrix:\n",
            " [[1.00000000e+00 0.00000000e+00]\n",
            " [1.77635684e-15 1.00000000e+00]]\n",
            "\n",
            "2. AB != BA:\n",
            "AB:\n",
            " [[23 13]\n",
            " [51 29]]\n",
            "BA:\n",
            " [[36 44]\n",
            " [13 16]]\n",
            "Are AB and BA equal? False\n",
            "\n",
            "3. (AB)^T = B^T * A^T:\n",
            "(AB)^T:\n",
            " [[23 51]\n",
            " [13 29]]\n",
            "B^T * A^T:\n",
            " [[23 51]\n",
            " [13 29]]\n",
            "Are (AB)^T and B^T * A^T equal? True\n",
            "\n",
            "4. Solution of the system of linear equations (using Inverse method):\n",
            "x = 2.0, y = 1.0, z = -2.0\n",
            "\n",
            "5. Solution of the system using np.linalg.solve:\n",
            "x = 2.0, y = 1.0000000000000002, z = -2.0\n"
          ]
        }
      ],
      "source": [
        "import numpy as np\n",
        "\n",
        "# Given arrays A and B\n",
        "A = np.array([[3, 4], [7, 8]])\n",
        "B = np.array([[5, 3], [2, 1]])\n",
        "\n",
        "# Task 1: Prove A * A^(-1) = I (Identity Matrix)\n",
        "A_inv = np.linalg.inv(A)\n",
        "identity_matrix = np.dot(A, A_inv)\n",
        "print(\"1. A * A^(-1) = Identity Matrix:\\n\", identity_matrix)\n",
        "\n",
        "# Task 2: Prove AB != BA\n",
        "AB = np.dot(A, B)\n",
        "BA = np.dot(B, A)\n",
        "print(\"\\n2. AB != BA:\")\n",
        "print(\"AB:\\n\", AB)\n",
        "print(\"BA:\\n\", BA)\n",
        "print(\"Are AB and BA equal?\", np.array_equal(AB, BA))\n",
        "\n",
        "# Task 3: Prove (AB)^T = B^T * A^T\n",
        "AB_transpose = np.transpose(AB)  # (AB)^T\n",
        "B_transpose_A_transpose = np.dot(np.transpose(B), np.transpose(A))  # B^T * A^T\n",
        "print(\"\\n3. (AB)^T = B^T * A^T:\")\n",
        "print(\"(AB)^T:\\n\", AB_transpose)\n",
        "print(\"B^T * A^T:\\n\", B_transpose_A_transpose)\n",
        "print(\"Are (AB)^T and B^T * A^T equal?\", np.array_equal(AB_transpose, B_transpose_A_transpose))\n",
        "\n",
        "# Task 4: Solve the system of linear equations using Inverse Method\n",
        "# Represent the system in matrix form A * X = B\n",
        "A_system = np.array([[2, -3, 1], [1, -1, 2], [3, 1, -1]])\n",
        "B_system = np.array([-1, -3, 9])\n",
        "\n",
        "# Using the Inverse of A to solve for X\n",
        "A_inv_system = np.linalg.inv(A_system)\n",
        "X = np.dot(A_inv_system, B_system)\n",
        "print(\"\\n4. Solution of the system of linear equations (using Inverse method):\")\n",
        "print(f\"x = {X[0]}, y = {X[1]}, z = {X[2]}\")\n",
        "\n",
        "# Task 5: Solve the system using np.linalg.solve function\n",
        "# This is another approach using np.linalg.solve\n",
        "X_solve = np.linalg.solve(A_system, B_system)\n",
        "print(\"\\n5. Solution of the system using np.linalg.solve:\")\n",
        "print(f\"x = {X_solve[0]}, y = {X_solve[1]}, z = {X_solve[2]}\")"
      ]
    },
    {
      "cell_type": "markdown",
      "metadata": {
        "id": "BV2L0yOVy3P6"
      },
      "source": [
        "**10.2 Experiment: How Fast is Numpy?**\n",
        "\n",
        "1. Element-wise Addition"
      ]
    },
    {
      "cell_type": "code",
      "execution_count": 29,
      "metadata": {
        "colab": {
          "base_uri": "https://localhost:8080/"
        },
        "id": "k_EHXb0Dy8H4",
        "outputId": "c1d05b5e-5b13-4700-9206-62dfb7ebe211"
      },
      "outputs": [
        {
          "output_type": "stream",
          "name": "stdout",
          "text": [
            "Time taken using Python lists: 0.089614 seconds\n",
            "Time taken using NumPy arrays: 0.004439 seconds\n",
            "NumPy is approximately 20.19 times faster than Python lists.\n"
          ]
        }
      ],
      "source": [
        "import time\n",
        "import numpy as np\n",
        "\n",
        "# List size\n",
        "size = 1_000_000\n",
        "\n",
        "# Generate two Python lists with random values\n",
        "list1 = [i for i in range(size)]\n",
        "list2 = [i for i in range(size)]\n",
        "\n",
        "# Measure time for Python list addition\n",
        "start_time = time.time()\n",
        "result_list = [list1[i] + list2[i] for i in range(size)]\n",
        "end_time = time.time()\n",
        "python_time = end_time - start_time\n",
        "print(f\"Time taken using Python lists: {python_time:.6f} seconds\")\n",
        "\n",
        "# Generate two NumPy arrays\n",
        "array1 = np.arange(size)\n",
        "array2 = np.arange(size)\n",
        "\n",
        "# Measure time for NumPy array addition\n",
        "start_time = time.time()\n",
        "result_array = array1 + array2\n",
        "end_time = time.time()\n",
        "numpy_time = end_time - start_time\n",
        "print(f\"Time taken using NumPy arrays: {numpy_time:.6f} seconds\")\n",
        "\n",
        "# Performance comparison\n",
        "speedup = python_time / numpy_time\n",
        "print(f\"NumPy is approximately {speedup:.2f} times faster than Python lists.\")"
      ]
    },
    {
      "cell_type": "markdown",
      "metadata": {
        "id": "VGpiEMQTbsqN"
      },
      "source": [
        "2. Element-wise Multiplication"
      ]
    },
    {
      "cell_type": "code",
      "execution_count": 30,
      "metadata": {
        "colab": {
          "base_uri": "https://localhost:8080/"
        },
        "id": "g5JplkOmbfHR",
        "outputId": "eb547371-0b94-4f48-b854-9c90c64540cb"
      },
      "outputs": [
        {
          "output_type": "stream",
          "name": "stdout",
          "text": [
            "Time taken using Python lists: 0.089551 seconds\n",
            "Time taken using NumPy arrays: 0.005469 seconds\n",
            "NumPy is approximately 16.37 times faster than Python lists.\n"
          ]
        }
      ],
      "source": [
        "import time\n",
        "import numpy as np\n",
        "\n",
        "# List size\n",
        "size = 1_000_000\n",
        "\n",
        "# Generate two Python lists with values from 0 to size-1\n",
        "list1 = [i for i in range(size)]\n",
        "list2 = [i for i in range(size)]\n",
        "\n",
        "# Measure time for Python list multiplication\n",
        "start_time = time.time()\n",
        "result_list = [list1[i] * list2[i] for i in range(size)]\n",
        "end_time = time.time()\n",
        "python_time = end_time - start_time\n",
        "print(f\"Time taken using Python lists: {python_time:.6f} seconds\")\n",
        "\n",
        "# Generate two NumPy arrays\n",
        "array1 = np.arange(size)\n",
        "array2 = np.arange(size)\n",
        "\n",
        "# Measure time for NumPy array multiplication\n",
        "start_time = time.time()\n",
        "result_array = array1 * array2\n",
        "end_time = time.time()\n",
        "numpy_time = end_time - start_time\n",
        "print(f\"Time taken using NumPy arrays: {numpy_time:.6f} seconds\")\n",
        "\n",
        "# Performance comparison\n",
        "speedup = python_time / numpy_time\n",
        "print(f\"NumPy is approximately {speedup:.2f} times faster than Python lists.\")"
      ]
    },
    {
      "cell_type": "markdown",
      "metadata": {
        "id": "3khzxXdacRf-"
      },
      "source": [
        "3. Dot Product"
      ]
    },
    {
      "cell_type": "code",
      "execution_count": 31,
      "metadata": {
        "colab": {
          "base_uri": "https://localhost:8080/"
        },
        "id": "vw0UDNOmcROQ",
        "outputId": "baea2899-da73-4029-de4c-919210d30182"
      },
      "outputs": [
        {
          "output_type": "stream",
          "name": "stdout",
          "text": [
            "Time taken using Python lists: 0.117984 seconds\n",
            "Time taken using NumPy arrays: 0.001482 seconds\n",
            "NumPy is approximately 79.62 times faster than Python lists.\n"
          ]
        }
      ],
      "source": [
        "import time\n",
        "import numpy as np\n",
        "\n",
        "# List size\n",
        "size = 1_000_000\n",
        "\n",
        "# Generate two Python lists\n",
        "list1 = [i for i in range(size)]\n",
        "list2 = [i for i in range(size)]\n",
        "\n",
        "# Measure time for dot product using Python lists\n",
        "start_time = time.time()\n",
        "dot_product_list = sum(list1[i] * list2[i] for i in range(size))\n",
        "end_time = time.time()\n",
        "python_time = end_time - start_time\n",
        "print(f\"Time taken using Python lists: {python_time:.6f} seconds\")\n",
        "\n",
        "# Generate two NumPy arrays\n",
        "array1 = np.arange(size)\n",
        "array2 = np.arange(size)\n",
        "\n",
        "# Measure time for dot product using NumPy arrays\n",
        "start_time = time.time()\n",
        "dot_product_numpy = np.dot(array1, array2)\n",
        "end_time = time.time()\n",
        "numpy_time = end_time - start_time\n",
        "print(f\"Time taken using NumPy arrays: {numpy_time:.6f} seconds\")\n",
        "\n",
        "# Performance comparison\n",
        "speedup = python_time / numpy_time\n",
        "print(f\"NumPy is approximately {speedup:.2f} times faster than Python lists.\")"
      ]
    },
    {
      "cell_type": "markdown",
      "metadata": {
        "id": "UiaJxCZfceaj"
      },
      "source": [
        "4. Matrix Multiplication"
      ]
    },
    {
      "cell_type": "code",
      "execution_count": 32,
      "metadata": {
        "colab": {
          "base_uri": "https://localhost:8080/"
        },
        "id": "zsgmHxSqceMv",
        "outputId": "c5174d89-b397-4f60-8702-5879b51241be"
      },
      "outputs": [
        {
          "output_type": "stream",
          "name": "stdout",
          "text": [
            "Time taken using Python lists: 187.436096 seconds\n",
            "Time taken using NumPy arrays: 1.366966 seconds\n",
            "NumPy is approximately 137.12 times faster than Python lists.\n"
          ]
        }
      ],
      "source": [
        "import time\n",
        "import numpy as np\n",
        "\n",
        "# Matrix size\n",
        "size = 1000\n",
        "\n",
        "# Generate two matrices using Python lists\n",
        "matrix1 = [[i * j for j in range(size)] for i in range(size)]\n",
        "matrix2 = [[j * i for j in range(size)] for i in range(size)]\n",
        "\n",
        "# Measure time for matrix multiplication using Python lists\n",
        "start_time = time.time()\n",
        "result_matrix = [[sum(matrix1[i][k] * matrix2[k][j] for k in range(size)) for j in range(size)] for i in range(size)]\n",
        "end_time = time.time()\n",
        "python_time = end_time - start_time\n",
        "print(f\"Time taken using Python lists: {python_time:.6f} seconds\")\n",
        "\n",
        "# Generate two NumPy matrices\n",
        "array1 = np.array(matrix1)\n",
        "array2 = np.array(matrix2)\n",
        "\n",
        "# Measure time for matrix multiplication using NumPy\n",
        "start_time = time.time()\n",
        "result_array = np.dot(array1, array2)  # or array1 @ array2\n",
        "end_time = time.time()\n",
        "numpy_time = end_time - start_time\n",
        "print(f\"Time taken using NumPy arrays: {numpy_time:.6f} seconds\")\n",
        "\n",
        "# Performance comparison\n",
        "speedup = python_time / numpy_time\n",
        "print(f\"NumPy is approximately {speedup:.2f} times faster than Python lists.\")"
      ]
    }
  ],
  "metadata": {
    "colab": {
      "provenance": []
    },
    "kernelspec": {
      "display_name": "Python 3",
      "name": "python3"
    },
    "language_info": {
      "name": "python"
    }
  },
  "nbformat": 4,
  "nbformat_minor": 0
}